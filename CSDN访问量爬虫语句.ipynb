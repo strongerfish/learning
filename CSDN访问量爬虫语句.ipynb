{
 "cells": [
  {
   "cell_type": "code",
   "execution_count": null,
   "metadata": {},
   "outputs": [],
   "source": [
    "import os\n",
    "os.chdir(r'E:\\Data analysis\\CDA\\learning\\9、python爬虫\\爬虫3days\\chromedriver_win32')  #google浏览器Drive文件路径\n",
    "from selenium import webdriver\n",
    "import random\n",
    "import time\n",
    "import datetime as dt"
   ]
  },
  {
   "cell_type": "code",
   "execution_count": null,
   "metadata": {},
   "outputs": [],
   "source": [
    "k=0\n",
    "while k<1000: #k可以随意设置\n",
    "    k+=1\n",
    "    time.sleep(random.randint(1,3))\n",
    "    try:\n",
    "        time_0=dt.datetime.fromtimestamp(time.time())\n",
    "        urls=['文章网址1',\n",
    "              '文章网址2',\n",
    "             '文章网址3']\n",
    "        #time_any=[]\n",
    "        for url in urls:\n",
    "            #time_1=dt.datetime.fromtimestamp(time.time())\n",
    "            browser=webdriver.Chrome()        \n",
    "            browser.get(url)\n",
    "            time.sleep(random.randint(1,3))\n",
    "            browser.close()\n",
    "            #time_2=dt.datetime.fromtimestamp(time.time())\n",
    "            #time_any.append(time_2-time_1)\n",
    "        time_end=dt.datetime.fromtimestamp(time.time())\n",
    "        print('第{0}次执行总耗时({1})'.format(k,time_end-time_0))\n",
    "    except Exception as e:\n",
    "        print(e.args)\n",
    "        print('k=',k)\n",
    "        break\n",
    "print('程序执行完毕！')"
   ]
  }
 ],
 "metadata": {
  "kernelspec": {
   "display_name": "Python 3",
   "language": "python",
   "name": "python3"
  },
  "language_info": {
   "codemirror_mode": {
    "name": "ipython",
    "version": 3
   },
   "file_extension": ".py",
   "mimetype": "text/x-python",
   "name": "python",
   "nbconvert_exporter": "python",
   "pygments_lexer": "ipython3",
   "version": "3.7.3"
  },
  "toc": {
   "base_numbering": 1,
   "nav_menu": {},
   "number_sections": true,
   "sideBar": true,
   "skip_h1_title": false,
   "title_cell": "Table of Contents",
   "title_sidebar": "Contents",
   "toc_cell": false,
   "toc_position": {},
   "toc_section_display": true,
   "toc_window_display": false
  }
 },
 "nbformat": 4,
 "nbformat_minor": 2
}
